{
  "nbformat": 4,
  "nbformat_minor": 0,
  "metadata": {
    "colab": {
      "name": "Ej_Python_1854552.ipynb",
      "provenance": [],
      "toc_visible": true,
      "authorship_tag": "ABX9TyOSoPgLvup6AmdJIPYgNUIT",
      "include_colab_link": true
    },
    "kernelspec": {
      "name": "python3",
      "display_name": "Python 3"
    },
    "language_info": {
      "name": "python"
    }
  },
  "cells": [
    {
      "cell_type": "markdown",
      "metadata": {
        "id": "view-in-github",
        "colab_type": "text"
      },
      "source": [
        "<a href=\"https://colab.research.google.com/github/LindaRequenes/Mineria_de_datos/blob/main/Ej_Python_1854552.ipynb\" target=\"_parent\"><img src=\"https://colab.research.google.com/assets/colab-badge.svg\" alt=\"Open In Colab\"/></a>"
      ]
    },
    {
      "cell_type": "markdown",
      "metadata": {
        "id": "Xtz-njaQKh-0"
      },
      "source": [
        "# **EJERCICIO 1**\n",
        "Realiza una variable con tu matricula y realiza una secuencia de imprimir con tu nombre y tu matricula concatenados."
      ]
    },
    {
      "cell_type": "code",
      "metadata": {
        "colab": {
          "base_uri": "https://localhost:8080/"
        },
        "id": "zsoXMCYmPaqV",
        "outputId": "b9af9235-45fc-45f0-9289-65cfc1a5ce44"
      },
      "source": [
        "mat=1854552\n",
        "print('Linda Karina Requenes Villarreal', mat)"
      ],
      "execution_count": null,
      "outputs": [
        {
          "output_type": "stream",
          "text": [
            "Linda Karina Requenes Villarreal 1854552\n"
          ],
          "name": "stdout"
        }
      ]
    },
    {
      "cell_type": "markdown",
      "metadata": {
        "id": "b5LGfoYKRRxA"
      },
      "source": [
        "# **EJERCICIO 2**\n",
        "Pidiendo el input del usuario pide dos números y crea una pequeña calculadora con los operadores básicos de suma, resta, multiplicación, división, y exponente."
      ]
    },
    {
      "cell_type": "code",
      "metadata": {
        "colab": {
          "base_uri": "https://localhost:8080/"
        },
        "id": "1iQCvGQTSSbB",
        "outputId": "48783dff-29dc-4de9-ee84-ba91ef76c889"
      },
      "source": [
        "num1=float(input('Ingrese un número: '))\n",
        "num2=float(input('Ingrese otro número: '))\n",
        "suma=num1+num2\n",
        "resta=num1-num2\n",
        "mult=num1*num2\n",
        "div=num1/num2\n",
        "exp=num1**num2\n",
        "print('\\n\\tCALCULADORA:\\nSuma: %.2f\\nResta: %.2f\\nMultiplicación: %.2f\\nDivisión: %.2f\\nExponente: %.2f'%(suma,resta,mult,div,exp))"
      ],
      "execution_count": null,
      "outputs": [
        {
          "output_type": "stream",
          "text": [
            "Ingrese un número: 6\n",
            "Ingrese otro número: 2\n",
            "\n",
            "\tCALCULADORA:\n",
            "Suma: 8.00\n",
            "Resta: 4.00\n",
            "Multiplicación: 12.00\n",
            "División: 3.00\n",
            "Exponente: 36.00\n"
          ],
          "name": "stdout"
        }
      ]
    },
    {
      "cell_type": "markdown",
      "metadata": {
        "id": "fyqglVYTZT_Q"
      },
      "source": [
        "# **EJERCICIO 3**\n",
        "\n",
        "Con loop while o for, realiza una lista de 10 numeros multiplos de 3, y después realiza una función de loop que sume todos los números dentro del arreglo."
      ]
    },
    {
      "cell_type": "code",
      "metadata": {
        "colab": {
          "base_uri": "https://localhost:8080/"
        },
        "id": "rDMtuZi6Zf8I",
        "outputId": "9402c60e-3e8b-4a84-a437-20ba49427201"
      },
      "source": [
        "n=10 #Números totales\n",
        "mult=3 #Múltiplo\n",
        "lista=[]\n",
        "for i in range(0,n*mult,mult):\n",
        "  lista.append(i)\n",
        "print('Lista de %d números múltiplos de %d:'%(n,mult),lista)\n",
        "\n",
        "i=0\n",
        "suma=0\n",
        "while i<len(lista):\n",
        "  suma+=lista[i]\n",
        "  i+=1\n",
        "print('\\nSuma de todos los elementos: %d'%suma)"
      ],
      "execution_count": null,
      "outputs": [
        {
          "output_type": "stream",
          "text": [
            "Lista de 10 números múltiplos de 3: [0, 3, 6, 9, 12, 15, 18, 21, 24, 27]\n",
            "\n",
            "Suma de todos los elementos: 135\n"
          ],
          "name": "stdout"
        }
      ]
    },
    {
      "cell_type": "markdown",
      "metadata": {
        "id": "yFblb5Wqg2zX"
      },
      "source": [
        "# **EJERCICIO 4**\n",
        "\n",
        "*   Con una función de if else, revisar si un número es par o es impar."
      ]
    },
    {
      "cell_type": "code",
      "metadata": {
        "colab": {
          "base_uri": "https://localhost:8080/"
        },
        "id": "yCVnwbAChagD",
        "outputId": "b55156f4-19ce-4d4f-f616-61d72381a906"
      },
      "source": [
        "num=int(input('Ingrese un número: '))\n",
        "if num%2==0:\n",
        "  print('El número %d es par'%num)\n",
        "else:\n",
        "  print('El número %d es impar'%num)"
      ],
      "execution_count": 47,
      "outputs": [
        {
          "output_type": "stream",
          "text": [
            "Ingrese un número: 10\n",
            "El número 10 es par\n"
          ],
          "name": "stdout"
        }
      ]
    },
    {
      "cell_type": "markdown",
      "metadata": {
        "id": "cJavt-xXpqDU"
      },
      "source": [
        "*   Con una función de if else, revisar si un número es primo o no."
      ]
    },
    {
      "cell_type": "code",
      "metadata": {
        "colab": {
          "base_uri": "https://localhost:8080/"
        },
        "id": "EhcRj_b8pvGf",
        "outputId": "d225ae0a-c5f1-41a1-ccc2-e382c142b97b"
      },
      "source": [
        "num=int(input('Ingrese un número: '))\n",
        "aux=0\n",
        "for i in range(2,num):\n",
        "  if num%i==0:\n",
        "    print('El número %d no es primo'%num)\n",
        "    aux+=1\n",
        "    break\n",
        "if aux==0:\n",
        "  print('El número %d es primo'%num)"
      ],
      "execution_count": 46,
      "outputs": [
        {
          "output_type": "stream",
          "text": [
            "Ingrese un número: 7\n",
            "El número 7 es primo\n"
          ],
          "name": "stdout"
        }
      ]
    },
    {
      "cell_type": "markdown",
      "metadata": {
        "id": "PTG9oSHhlwFv"
      },
      "source": [
        "# **EJERCICIO 5**\n",
        "Utilizando diferentes clases en python, crea una calculadora con los operadores básicos de suma, resta, multiplicación, división, y exponente."
      ]
    },
    {
      "cell_type": "code",
      "metadata": {
        "colab": {
          "base_uri": "https://localhost:8080/"
        },
        "id": "gqnCRjy0mQYH",
        "outputId": "60ae544e-07b6-4ba2-b67b-8289f5543fea"
      },
      "source": [
        "num1=float(input('Ingrese un número: '))\n",
        "num2=float(input('Ingrese otro número: '))\n",
        "\n",
        "def Suma(n1,n2):\n",
        "  sum=n1+n2\n",
        "  return sum\n",
        "\n",
        "def Resta(n1,n2):\n",
        "  rest=n1-n2\n",
        "  return resta\n",
        "\n",
        "def Multiplicacion(n1,n2):\n",
        "  mult=n1*n2\n",
        "  return mult\n",
        "\n",
        "def Division(n1,n2):\n",
        "  div=n1/n2\n",
        "  return div\n",
        "\n",
        "def Exponente(n1,n2):\n",
        "  exp=n1**n2\n",
        "  return exp\n",
        "\n",
        "s=Suma(num1,num2)\n",
        "r=Resta(num1,num2)\n",
        "m=Multiplicacion(num1,num2)\n",
        "d=Division(num1,num2)\n",
        "e=Exponente(num1,num2)\n",
        "print('\\n\\tCALCULADORA:\\nSuma: %.2f\\nResta: %.2f\\nMultiplicación: %.2f\\nDivisión: %.2f\\nExponente: %.2f'%(s,r,m,d,e))"
      ],
      "execution_count": 43,
      "outputs": [
        {
          "output_type": "stream",
          "text": [
            "Ingrese un número: 8\n",
            "Ingrese otro número: 4\n",
            "\n",
            "\tCALCULADORA:\n",
            "Suma: 12.00\n",
            "Resta: 4.00\n",
            "Multiplicación: 32.00\n",
            "División: 2.00\n",
            "Exponente: 4096.00\n"
          ],
          "name": "stdout"
        }
      ]
    },
    {
      "cell_type": "markdown",
      "metadata": {
        "id": "kDFz5DraovAR"
      },
      "source": [
        "# **EJERCICIOS CON ESTRUCTURAS BÁSICAS DE PYTHON**"
      ]
    },
    {
      "cell_type": "markdown",
      "metadata": {
        "id": "EmGWlqyvpFpe"
      },
      "source": [
        "## ***Tuplas***\n",
        "\n",
        "*   Crear una variable flotante, integer, boleana y compleja e imprimir el tipo de variable que es.\n",
        "\n",
        "\n",
        "\n",
        "\n"
      ]
    },
    {
      "cell_type": "code",
      "metadata": {
        "colab": {
          "base_uri": "https://localhost:8080/"
        },
        "id": "Vtc8DjT5qwIv",
        "outputId": "710ddde9-5eba-4995-e8b5-f5eb811fdb18"
      },
      "source": [
        "f=3.1416\n",
        "i=2021\n",
        "b=True\n",
        "c=7+3j\n",
        "\n",
        "print('VARIABLES:')\n",
        "print('f=',f,'\\tTipo: ',type(f))\n",
        "print('i=',i,'\\tTipo: ',type(i))\n",
        "print('b=',b,'\\tTipo: ',type(b))\n",
        "print('c=',c,'\\tTipo: ',type(c))"
      ],
      "execution_count": 94,
      "outputs": [
        {
          "output_type": "stream",
          "text": [
            "VARIABLES:\n",
            "f= 3.1416 \tTipo:  <class 'float'>\n",
            "i= 2021 \tTipo:  <class 'int'>\n",
            "b= True \tTipo:  <class 'bool'>\n",
            "c= (7+3j) \tTipo:  <class 'complex'>\n"
          ],
          "name": "stdout"
        }
      ]
    },
    {
      "cell_type": "markdown",
      "metadata": {
        "id": "nO4YXut6MnMs"
      },
      "source": [
        "*   Crear una tupla con valores enteros imprimir el primer y ultimo valor.\n",
        "*   Añadir 3 valores de string a la tupla.\n",
        "*   Verificar si una variable existe dentro de la tupla."
      ]
    },
    {
      "cell_type": "code",
      "metadata": {
        "colab": {
          "base_uri": "https://localhost:8080/"
        },
        "id": "lPD_hMwqMysE",
        "outputId": "66a2d926-ae5d-445d-979d-b2255cea74d3"
      },
      "source": [
        "### Crear tupla\n",
        "tupla=(1,2,3,4,5)\n",
        "print('TUPLA:\\n',tupla)\n",
        "print('Primer número de la tupla=',tupla[0])\n",
        "print('Último número de la tupla=',tupla[len(tupla)-1])\n",
        "\n",
        "### Agregando strings\n",
        "print('\\nAGREGANDO STRINGS:')\n",
        "tupla2=list(tupla)\n",
        "for i in range(3):\n",
        "  x=input('Agregue el string %d a la tupla: '%(i+1))\n",
        "  tupla2.append(x)\n",
        "tupla=tuple(tupla2)\n",
        "print('\\tNueva Tupla: ',tupla)\n",
        "\n",
        "### Verificar existencia de una variable\n",
        "print('\\nEXISTENCIA DE UNA VARIABLE:')\n",
        "tupla2=[]\n",
        "aux=0\n",
        "for i in range(len(tupla)):\n",
        "  tupla2.append(str(list(tupla)[i]))\n",
        "var=str(input('¿Qué variable deseas identificar en la tupla? --> '))\n",
        "for j in range(len(tupla2)):\n",
        "  if var==tupla2[j]:\n",
        "    aux=1\n",
        "    break\n",
        "if aux==1:\n",
        "  p=tupla2.index(var)\n",
        "  print('%s existe dentro de la tupla en la posición %d'%(var,p))\n",
        "else:\n",
        "  print('%s no existe dentro de la tupla'%var)"
      ],
      "execution_count": 132,
      "outputs": [
        {
          "output_type": "stream",
          "text": [
            "TUPLA:\n",
            " (1, 2, 3, 4, 5)\n",
            "Primer número de la tupla= 1\n",
            "Último número de la tupla= 5\n",
            "\n",
            "AGREGANDO STRINGS:\n",
            "Agregue el string 1 a la tupla: Hola\n",
            "Agregue el string 2 a la tupla: soy\n",
            "Agregue el string 3 a la tupla: Linda\n",
            "\tNueva Tupla:  (1, 2, 3, 4, 5, 'Hola', 'soy', 'Linda')\n",
            "\n",
            "EXISTENCIA DE UNA VARIABLE:\n",
            "¿Qué variable deseas identificar en la tupla? --> 4\n",
            "4 existe dentro de la tupla en la posición 3\n"
          ],
          "name": "stdout"
        }
      ]
    },
    {
      "cell_type": "markdown",
      "metadata": {
        "id": "fyqWHQs8RKMi"
      },
      "source": [
        "## ***Listas***\n",
        "\n",
        "*   Crear una lista con 40 elementos aleatorios enteros.\n",
        "*   Con una funcion (def) crear dos listas nuevas a partir de la lista creada por numeros aleatorios, en la cual en una esten los elementos pares, y en la otra los elementos impares.\n",
        "*   Crear dos variables con la longitud de ambas listas nuevas e imprimir las variables.\n",
        "*   Ordenar los elementos de la lista par de mayor a menor, y los de la lista impar de menor a mayor.\n",
        "*   Utilizar al menos cuatro de las funciones de listas en python en la lista original de 40 elementos."
      ]
    },
    {
      "cell_type": "code",
      "metadata": {
        "colab": {
          "base_uri": "https://localhost:8080/"
        },
        "id": "p2J5h2l1RXqT",
        "outputId": "d6593723-c8bd-46f5-def4-b01696147e7d"
      },
      "source": [
        "import random\n",
        "\n",
        "### Crear lista\n",
        "lista=[]\n",
        "for i in range(40):\n",
        "  x=random.randint(0,100)\n",
        "  lista.append(x)\n",
        "print('Números aleatorios enteros:\\n',lista)\n",
        "\n",
        "### Crear dos listas nuevas\n",
        "def NuevaLista(lista):\n",
        "  pares=[]\n",
        "  impares=[]\n",
        "  for i in range(len(lista)):\n",
        "    if lista[i]%2==0:\n",
        "      pares.append(lista[i])\n",
        "    else:\n",
        "      impares.append(lista[i])\n",
        "  return[pares,impares]\n",
        "pares=NuevaLista(lista)[0]\n",
        "impares=NuevaLista(lista)[1]\n",
        "print('\\nPares: ',pares)\n",
        "print('Impares: ',impares)\n",
        "\n",
        "### Longitud de listas\n",
        "nPar=len(pares)\n",
        "nImpar=len(impares)\n",
        "print('\\nLONGITUD:\\nPares -> %d elementos'%nPar)\n",
        "print('Impares -> %d elementos'%nImpar)\n",
        "\n",
        "### Ordenar\n",
        "print('\\nLISTAS ORDENADAS:')\n",
        "pares.sort(reverse=True)\n",
        "print('Pares (mayor a menor) =',pares)\n",
        "impares.sort()\n",
        "print('Impares (menor a mayor) =',impares)\n",
        "\n",
        "### Funciones\n",
        "print('\\nFUNCIONES: \\nNúmero máximo= ',max(lista))\n",
        "print('Número mínimo= ',min(lista))\n",
        "print('Suma= ',sum(lista))\n",
        "print('Promedio: ',sum(lista)/len(lista))"
      ],
      "execution_count": 172,
      "outputs": [
        {
          "output_type": "stream",
          "text": [
            "Números aleatorios enteros:\n",
            " [44, 89, 41, 82, 12, 22, 40, 47, 77, 11, 1, 61, 46, 100, 66, 46, 21, 72, 37, 0, 78, 65, 5, 81, 89, 55, 83, 98, 88, 10, 76, 38, 50, 38, 7, 86, 9, 51, 31, 51]\n",
            "\n",
            "Pares:  [44, 82, 12, 22, 40, 46, 100, 66, 46, 72, 0, 78, 98, 88, 10, 76, 38, 50, 38, 86]\n",
            "Impares:  [89, 41, 47, 77, 11, 1, 61, 21, 37, 65, 5, 81, 89, 55, 83, 7, 9, 51, 31, 51]\n",
            "\n",
            "LONGITUD:\n",
            "Pares -> 20 elementos\n",
            "Impares -> 20 elementos\n",
            "\n",
            "LISTAS ORDENADAS:\n",
            "Pares (mayor a menor) = [100, 98, 88, 86, 82, 78, 76, 72, 66, 50, 46, 46, 44, 40, 38, 38, 22, 12, 10, 0]\n",
            "Impares (menor a mayor) = [1, 5, 7, 9, 11, 21, 31, 37, 41, 47, 51, 51, 55, 61, 65, 77, 81, 83, 89, 89]\n",
            "\n",
            "FUNCIONES: \n",
            "Número máximo=  100\n",
            "Número mínimo=  0\n",
            "Suma=  2004\n",
            "Promedio:  50.1\n"
          ],
          "name": "stdout"
        }
      ]
    },
    {
      "cell_type": "markdown",
      "metadata": {
        "id": "xbNFi6MCm-Qm"
      },
      "source": [
        "## ***Diccionarios***\n",
        "*   Crear un diccionario de 6 personas que conozcas con su primer nombre y su edad.\n",
        "*   Crear una lista con los valores de la edad y reacomodar la lista de menor a mayor valor.\n",
        "*   Usando el diccionario y un loop, imprimir solo los nombres.\n",
        "*   Añadir dos personas nuevas a tu diccionario, incluyendo edad."
      ]
    },
    {
      "cell_type": "code",
      "metadata": {
        "colab": {
          "base_uri": "https://localhost:8080/"
        },
        "id": "YQ0yJ4-LnQlc",
        "outputId": "14345f3f-3756-41db-d5e5-24e89b9bf78e"
      },
      "source": [
        "### Creación del diccionario\n",
        "p1=dict(Nombre='Leticia',Edad=48)\n",
        "p2=dict(Nombre='Joselyn',Edad=10)\n",
        "p3=dict(Nombre='Juan',Edad=58)\n",
        "p4=dict(Nombre='Fausto',Edad=80)\n",
        "p5=dict(Nombre='Karina',Edad=19)\n",
        "p6=dict(Nombre='Sanjuana',Edad=74)\n",
        "people=[p1,p2,p3,p4,p5,p6]\n",
        "print('Diccionario: ',people)\n",
        "\n",
        "### Lista de Edad\n",
        "edad=[]\n",
        "for i in range(6):\n",
        "  edad.append(people[i]['Edad'])\n",
        "edad.sort()\n",
        "print('\\nLista ordenada de edad: ',edad)\n",
        "\n",
        "### Imprimir nombres\n",
        "names=[]\n",
        "for i in range(6):\n",
        "  names.append(people[i]['Nombre'])\n",
        "print('\\nNombres: ',names)\n",
        "\n",
        "### Añadir dos personas\n",
        "for i in range(2):\n",
        "  nom=input('Agregue el nombre la persona %d en el diccionario:'%(i+1))\n",
        "  year=int(input('Agregue la edad la persona %d en el diccionario:'%(i+1)))\n",
        "  people.append(dict(Nombre=nom,Edad=year))\n",
        "print('\\nNUEVO DICCIONARIO:\\n',people)"
      ],
      "execution_count": 178,
      "outputs": [
        {
          "output_type": "stream",
          "text": [
            "Diccionario:  [{'Nombre': 'Leticia', 'Edad': 48}, {'Nombre': 'Joselyn', 'Edad': 10}, {'Nombre': 'Juan', 'Edad': 58}, {'Nombre': 'Fausto', 'Edad': 80}, {'Nombre': 'Karina', 'Edad': 19}, {'Nombre': 'Sanjuana', 'Edad': 74}]\n",
            "\n",
            "Lista ordenada de edad:  [10, 19, 48, 58, 74, 80]\n",
            "\n",
            "Nombres:  ['Leticia', 'Joselyn', 'Juan', 'Fausto', 'Karina', 'Sanjuana']\n",
            "Agregue el nombre la persona 1 en el diccionario:Rosa\n",
            "Agregue la edad la persona 1 en el diccionario:34\n",
            "Agregue el nombre la persona 2 en el diccionario:Jaime\n",
            "Agregue la edad la persona 2 en el diccionario:43\n",
            "\n",
            "NUEVO DICCIONARIO:\n",
            " [{'Nombre': 'Leticia', 'Edad': 48}, {'Nombre': 'Joselyn', 'Edad': 10}, {'Nombre': 'Juan', 'Edad': 58}, {'Nombre': 'Fausto', 'Edad': 80}, {'Nombre': 'Karina', 'Edad': 19}, {'Nombre': 'Sanjuana', 'Edad': 74}, {'Nombre': 'Rosa', 'Edad': 34}, {'Nombre': 'Jaime', 'Edad': 43}]\n"
          ],
          "name": "stdout"
        }
      ]
    },
    {
      "cell_type": "markdown",
      "metadata": {
        "id": "07HHBGB8iuLa"
      },
      "source": [
        "## ***Sets***\n",
        "*   Crea un set con 100 numeros aleatorios enteros del 1 al 25.\n",
        "*   Comprueba la longitud de tu set.\n",
        "*   Crea una lista de 5 numeros aleatorios del 1 al 10 y comprueba si cada valor aparece en el set inicial.\n",
        "\n",
        "\n",
        "\n"
      ]
    },
    {
      "cell_type": "code",
      "metadata": {
        "colab": {
          "base_uri": "https://localhost:8080/"
        },
        "id": "udTvsIexi9cd",
        "outputId": "e213fb6d-03fa-45ca-853d-a088f446f0a7"
      },
      "source": [
        "import random\n",
        "\n",
        "### Crear set\n",
        "lista=[]\n",
        "for i in range(100):\n",
        "  x=random.randint(1,25)\n",
        "  lista.append(x)\n",
        "sets=set(lista)\n",
        "print('Números aleatorios enteros:\\n',sets)\n",
        "\n",
        "### Longitud\n",
        "print('\\nLongitud del set =',len(sets))\n",
        "\n",
        "### Crear lista\n",
        "print('\\nVerificación de valores:')\n",
        "lista=[]\n",
        "aux=0\n",
        "listaSet=list(sets)\n",
        "for i in range(5):\n",
        "  x=random.randint(1,10)\n",
        "  lista.append(x)\n",
        "for i in range(5):\n",
        "  for j in range(len(sets)):\n",
        "    if lista[i]==listaSet[j]:\n",
        "      aux+=1\n",
        "      print('El valor %d aparece en el set inicial'%lista[i])\n",
        "      break\n",
        "  if i+1<aux:\n",
        "    print('El valor %d no aparece en el set inicial'%lista[i])\n"
      ],
      "execution_count": 159,
      "outputs": [
        {
          "output_type": "stream",
          "text": [
            "Números aleatorios enteros:\n",
            " {1, 2, 3, 4, 5, 6, 7, 8, 9, 10, 11, 12, 13, 14, 15, 16, 17, 18, 19, 20, 21, 22, 23, 24, 25}\n",
            "\n",
            "Longitud del set = 25\n",
            "\n",
            "Verificación de valores:\n",
            "El valor 1 aparece en el set inicial\n",
            "El valor 1 aparece en el set inicial\n",
            "El valor 10 aparece en el set inicial\n",
            "El valor 8 aparece en el set inicial\n",
            "El valor 5 aparece en el set inicial\n"
          ],
          "name": "stdout"
        }
      ]
    }
  ]
}